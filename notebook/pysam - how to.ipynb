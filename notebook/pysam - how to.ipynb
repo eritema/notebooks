{
 "cells": [
  {
   "cell_type": "markdown",
   "metadata": {},
   "source": [
    "# pysam\n",
    "Pysam is a python module that makes it easy to read and manipulate mapped short read sequence data stored in SAM/BAM files. It is a lightweight wrapper of the htslib C-API.\n",
    "\n",
    "This page provides a quick introduction in using pysam followed by the API. See Working with BAM/CRAM/SAM-formatted files for more detailed usage instructions.\n",
    "## Installation\n",
    "I installed Bioconda (https://bioconda.github.io/) trough anaconda.\n",
    "### Bioconda\n",
    "Bioconda is a distribution of bioinformatics software realized as a channel for the versatile Conda package manager. Key features of Conda are\n",
    "* a command line client for simple installation and dependency handling in the spirit of conda install mypackage,\n",
    "very easy package creation,\n",
    "* a mechanism for creating isolated environments that allows different package versions to coexist.\n",
    "\n",
    "#### Step 1 Setup Bioconda\n",
    "After installing Miniconda, you can use the conda command to setup bioconda with:"
   ]
  },
  {
   "cell_type": "raw",
   "metadata": {},
   "source": [
    "conda config --add channels r\n",
    "conda config --add channels bioconda"
   ]
  },
  {
   "cell_type": "markdown",
   "metadata": {},
   "source": [
    "The r channel is added to satisfy the R language dependencies of some packages as well as some non-R dependencies. Even if you don’t plan on installing R packages, the r channel is required for some Bioconda packages.\n",
    "#### Step 2 Install pysam\n",
    "Once the channels have been added, you can install packages, e.g.:"
   ]
  },
  {
   "cell_type": "code",
   "execution_count": null,
   "metadata": {
    "collapsed": true
   },
   "outputs": [],
   "source": [
    "conda install pysam"
   ]
  },
  {
   "cell_type": "markdown",
   "metadata": {},
   "source": [
    "## Use\n",
    "The examples are based on http://pysam.readthedocs.io/en/latest/api.html. The api are described here:http://pysam.readthedocs.io/en/latest/api.html#api\n",
    "### Read a bam file\n",
    "Read a file in BAM format and create an AlignmentFile object."
   ]
  },
  {
   "cell_type": "code",
   "execution_count": 36,
   "metadata": {
    "collapsed": false
   },
   "outputs": [],
   "source": [
    "import pysam\n",
    "\n",
    "bamfile38 = pysam.AlignmentFile(\"hg38.bam\", \"rb\")\n",
    "#bamfile19 = pysam.AlignmentFile(\"hg19.bam\", \"rb\")"
   ]
  },
  {
   "cell_type": "markdown",
   "metadata": {},
   "source": [
    "If you want to read a sam file simply use the  'r' without the binary flag.\n",
    "### Iterate over the alignment\n",
    "Once a file is opened you can iterate over all of the read mapping to a specified region using fetch(). It works on indexed bam"
   ]
  },
  {
   "cell_type": "code",
   "execution_count": 65,
   "metadata": {
    "collapsed": false
   },
   "outputs": [
    {
     "name": "stdout",
     "output_type": "stream",
     "text": [
      "M00303:129:000000000-AMRLV:1:2110:9807:7376 250M False False False 161 [(0, 250)]\n",
      "M00303:129:000000000-AMRLV:1:1112:13319:13883 250M False False False 161 [(0, 250)]\n",
      "M00303:129:000000000-AMRLV:1:1113:14055:28455 241M10S False False False 161 [(0, 241), (4, 10)]\n",
      "M00303:129:000000000-AMRLV:1:2112:17761:28789 240M11S False True False 163 [(0, 240), (4, 11)]\n",
      "M00303:129:000000000-AMRLV:1:1107:8661:26872 213M38S True False False 73 [(0, 213), (4, 38)]\n",
      "M00303:129:000000000-AMRLV:1:1104:7888:13610 201M50S False False False 161 [(0, 201), (4, 50)]\n",
      "M00303:129:000000000-AMRLV:1:1108:26709:21195 201M50S True True False 99 [(0, 201), (4, 50)]\n",
      "M00303:129:000000000-AMRLV:1:2112:23718:6595 200M51S False True False 163 [(0, 200), (4, 51)]\n",
      "M00303:129:000000000-AMRLV:1:2113:17731:20386 199M52S False False False 161 [(0, 199), (4, 52)]\n",
      "M00303:129:000000000-AMRLV:1:2103:24812:21675 199M52S True True False 99 [(0, 199), (4, 52)]\n"
     ]
    }
   ],
   "source": [
    "count=1\n",
    "for read in bamfile38.fetch('chr19', 46381104, 46381105):\n",
    "    print read.query_name,read.cigarstring,\\\n",
    "    str(read.is_read1),str(read.is_proper_pair),\\\n",
    "    str(read.is_secondary),str(read.flag),\\\n",
    "    str(read.cigartuples)\n",
    "    count=count+1\n",
    "    if count>10:\n",
    "        break\n",
    "\n",
    "\n",
    "#samfile38.close()"
   ]
  },
  {
   "cell_type": "markdown",
   "metadata": {},
   "source": [
    "The read belong to a class pysam.AlignedSegment. Many methods access to the reads features. Here as example we access to: \n",
    "* the name of the read\n",
    "* the cigar string\n",
    "* the forward/reverse property\n",
    "* the proper alignment\n",
    "* the alignment type (secondary/not secondary)\n",
    "* the flag\n",
    "* the cigar tuple (M=0,...,S=4,...)\n",
    "\n",
    "### pysam with mate\n",
    "Now we search in the bam file the mate reads"
   ]
  },
  {
   "cell_type": "code",
   "execution_count": 71,
   "metadata": {
    "collapsed": false
   },
   "outputs": [],
   "source": [
    "def get_SA_items(read):\n",
    "    SA = [x for x in read.get_tags() if x[0] == 'XA']\n",
    "    #SA=[x for x in read.get_tags()]\n",
    "    SA = SA[0] if SA else None\n",
    "    if not SA:\n",
    "        return None, None, None, None\n",
    "    items = SA[1].split(\",\")\n",
    "    chrom = items[0]\n",
    "    pos = int(items[1]) - 1\n",
    "    #strand = items[2]\n",
    "    cigar = items[2]\n",
    "    #total_bases = total_bases_cigar(cigar)\n",
    "    #sa_mapq = items[4].split(\";\")[0]\n",
    "    nm = items[3].split(\";\")[0]\n",
    "    return chrom, pos, cigar,nm\n",
    "\n",
    "CIGAR_SOFT_CLIP = 4\n",
    "#for read in bamfile38.fetch('chr19', 46381104, 46381105):\n",
    "for read in bamfile38.fetch('HIV-HXB2'):\n",
    "    if(read.is_proper_pair):\n",
    "    #if read.is_secondary:\n",
    "        #SA_chrom, SA_pos, SA_cigar, SA_nm = get_SA_items(read)\n",
    "        #print SA_chrom,SA_pos, SA_nm, SA_cigar\n",
    "        chrom=read.reference_name\n",
    "        start=read.reference_start+1\n",
    "        stop=read.reference_end+1\n",
    "        cigar=read.cigarstring\n",
    "        mate=bamfile38.mate(read)\n",
    "        \n",
    "        chromM=mate.reference_name\n",
    "        startM=mate.reference_start+1\n",
    "        stopM=mate.reference_end+1\n",
    "        cigarM=mate.cigarstring\n",
    "        print chrom,start,stop,cigar,str(read.is_read1),str(read.is_reverse),\\\n",
    "              chromM,startM,stopM,cigarM,str(mate.is_read1),str(mate.is_reverse)\n",
    "        #print type(mate)\n",
    "        #print str(mate)+\" \"+read.cigarstring+\" \"+mate.cigarstring"
   ]
  },
  {
   "cell_type": "code",
   "execution_count": null,
   "metadata": {
    "collapsed": true
   },
   "outputs": [],
   "source": []
  },
  {
   "cell_type": "code",
   "execution_count": null,
   "metadata": {
    "collapsed": true
   },
   "outputs": [],
   "source": []
  }
 ],
 "metadata": {
  "kernelspec": {
   "display_name": "Python 2",
   "language": "python",
   "name": "python2"
  },
  "language_info": {
   "codemirror_mode": {
    "name": "ipython",
    "version": 2
   },
   "file_extension": ".py",
   "mimetype": "text/x-python",
   "name": "python",
   "nbconvert_exporter": "python",
   "pygments_lexer": "ipython2",
   "version": "2.7.11"
  }
 },
 "nbformat": 4,
 "nbformat_minor": 0
}
